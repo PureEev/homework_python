{
 "cells": [
  {
   "cell_type": "code",
   "execution_count": 5,
   "id": "546f2240-17b1-4d92-8cde-4ed4070ac5f8",
   "metadata": {},
   "outputs": [],
   "source": [
    "import numpy as np\n",
    "import sys\n",
    "import array"
   ]
  },
  {
   "cell_type": "code",
   "execution_count": 6,
   "id": "a3d519fb-58d1-403f-abd6-6d894ff30331",
   "metadata": {},
   "outputs": [
    {
     "name": "stdout",
     "output_type": "stream",
     "text": [
      "<class 'int'>\n",
      "<class 'str'>\n",
      "<class 'bool'>\n"
     ]
    }
   ],
   "source": [
    "x = 1\n",
    "print(type(x))\n",
    "\n",
    "x = 'hello'\n",
    "print(type(x))\n",
    "\n",
    "x = True\n",
    "print(type(x))"
   ]
  },
  {
   "cell_type": "code",
   "execution_count": 7,
   "id": "3a9ea258-937c-4a30-ae91-53bc0c533b01",
   "metadata": {},
   "outputs": [
    {
     "name": "stdout",
     "output_type": "stream",
     "text": [
      "56\n",
      "88\n",
      "88\n"
     ]
    }
   ],
   "source": [
    "l1 = list([])\n",
    "print(sys.getsizeof(l1))\n",
    "\n",
    "l2 = list([1,2,3])\n",
    "print(sys.getsizeof(l2))\n",
    "\n",
    "l3 = list([1,\"2\",True])\n",
    "print(sys.getsizeof(l3))"
   ]
  },
  {
   "cell_type": "code",
   "execution_count": 8,
   "id": "ac2c93c9-c966-4d57-b4af-2904722a6f93",
   "metadata": {},
   "outputs": [
    {
     "name": "stdout",
     "output_type": "stream",
     "text": [
      "92\n",
      "<class 'array.array'>\n"
     ]
    }
   ],
   "source": [
    "a1 = array.array('i', [1,2,3])\n",
    "print(sys.getsizeof(a1))\n",
    "print(type(a1))"
   ]
  },
  {
   "cell_type": "code",
   "execution_count": 10,
   "id": "489f3aa6-e4c0-4430-a85c-204b6009dcef",
   "metadata": {},
   "outputs": [
    {
     "name": "stdout",
     "output_type": "stream",
     "text": [
      "<class 'numpy.ndarray'> [1 2 3 4 5]\n",
      "<class 'numpy.ndarray'> [1.23 2.   3.   4.   5.  ]\n",
      "<class 'numpy.ndarray'> [1 2 3 4 5]\n"
     ]
    }
   ],
   "source": [
    "a = np.array([1,2,3,4,5])\n",
    "print(type(a), a)\n",
    "\n",
    "a = np.array([1.23,2,3,4,5])\n",
    "print(type(a), a)\n",
    "\n",
    "a = np.array([1.23,2,3,4,5], dtype = int)\n",
    "print(type(a), a)\n"
   ]
  },
  {
   "cell_type": "code",
   "execution_count": 15,
   "id": "056e6b15-5754-4e52-96b9-b3aee7ecb62f",
   "metadata": {},
   "outputs": [
    {
     "name": "stdout",
     "output_type": "stream",
     "text": [
      "[[2 3 4]\n",
      " [4 5 6]\n",
      " [6 7 8]]\n",
      "[0 0 0 0 0 0 0 0 0 0] <class 'numpy.ndarray'>\n",
      "[[1. 1. 1. 1. 1.]\n",
      " [1. 1. 1. 1. 1.]\n",
      " [1. 1. 1. 1. 1.]]\n",
      "[[3.1415 3.1415 3.1415 3.1415 3.1415]\n",
      " [3.1415 3.1415 3.1415 3.1415 3.1415]\n",
      " [3.1415 3.1415 3.1415 3.1415 3.1415]\n",
      " [3.1415 3.1415 3.1415 3.1415 3.1415]]\n",
      "[ 0  2  4  6  8 10 12 14 16 18]\n",
      "[[1. 0. 0. 0.]\n",
      " [0. 1. 0. 0.]\n",
      " [0. 0. 1. 0.]\n",
      " [0. 0. 0. 1.]]\n"
     ]
    }
   ],
   "source": [
    "a = np.array([range(i, i+3) for i in [2,4,6]])\n",
    "print(a)\n",
    "\n",
    "a = np.zeros(10, dtype = int)\n",
    "print(a, type(a))\n",
    "\n",
    "print(np.ones((3,5), dtype = float))\n",
    "\n",
    "print(np.full((4,5), 3.1415))\n",
    "\n",
    "print(np.arange(0, 20,2))\n",
    "\n",
    "print(np.eye(4))"
   ]
  },
  {
   "cell_type": "code",
   "execution_count": 17,
   "id": "674460d4-d71c-4d9c-8524-93b383de9864",
   "metadata": {},
   "outputs": [
    {
     "name": "stdout",
     "output_type": "stream",
     "text": [
      "[5 8 9]\n",
      "[[5 0]\n",
      " [0 1]\n",
      " [7 6]]\n",
      "[[[9]\n",
      "  [2]]\n",
      "\n",
      " [[4]\n",
      "  [5]]\n",
      "\n",
      " [[2]\n",
      "  [4]]]\n",
      "1 (3,) 3\n",
      "2 (3, 2) 6\n",
      "3 (3, 2, 1) 6\n"
     ]
    }
   ],
   "source": [
    "np.random.seed(1)\n",
    "\n",
    "x1 = np.random.randint(10, size = 3)\n",
    "x2 = np.random.randint(10, size = (3,2))\n",
    "x3 = np.random.randint(10, size = (3,2,1))\n",
    "\n",
    "print(x1)\n",
    "print(x2)\n",
    "print(x3)\n",
    "\n",
    "print(x1.ndim, x1.shape, x1.size)\n",
    "print(x2.ndim, x2.shape, x2.size)\n",
    "print(x3.ndim, x3.shape, x3.size)"
   ]
  },
  {
   "cell_type": "code",
   "execution_count": 23,
   "id": "1494e945-3171-404e-9997-1d8e0d6a3a3e",
   "metadata": {},
   "outputs": [
    {
     "name": "stdout",
     "output_type": "stream",
     "text": [
      "1\n",
      "4\n",
      "[ 1 20  3  4  5]\n",
      "[[1 2]\n",
      " [3 4]]\n",
      "1\n",
      "4\n",
      "[[  1   2]\n",
      " [100   4]]\n",
      "[1 2 3 4]\n",
      "[1 0 2 3 4]\n"
     ]
    }
   ],
   "source": [
    "a = np.array([1,2,3,4,5])\n",
    "print(a[0])\n",
    "\n",
    "print(a[-2])\n",
    "\n",
    "a[1] = 20\n",
    "\n",
    "print(a)\n",
    "\n",
    "a = np.array(([1,2],[3,4]))\n",
    "print(a)\n",
    "\n",
    "print(a[0,0])\n",
    "print(a[-1,-1])\n",
    "\n",
    "a[1,0] = 100\n",
    "print(a)\n",
    "\n",
    "a = np.array([1,2,3,4])\n",
    "b = np.array([1,0, 2,3,4])\n",
    "\n",
    "print(a)\n",
    "print(b)\n",
    "\n",
    "a[0] = 10\n",
    "print(a)\n",
    "\n",
    "a[0] = 10.123\n",
    "print(a)\n"
   ]
  },
  {
   "cell_type": "code",
   "execution_count": 24,
   "id": "dd459017-aa91-4097-be2a-ce65b21fa459",
   "metadata": {},
   "outputs": [
    {
     "name": "stdout",
     "output_type": "stream",
     "text": [
      "[1 2 3]\n",
      "[4 5 6]\n",
      "[2 3 4 5]\n",
      "[2 3 4 5]\n",
      "[]\n",
      "[2 4 6]\n",
      "[6 5 4 3 2 1]\n"
     ]
    }
   ],
   "source": [
    "a = np.array([1,2,3,4,5,6])\n",
    "print(a[:3])\n",
    "print(a[3:])\n",
    "print(a[1:5])\n",
    "print(a[1:-1])\n",
    "print(a[6:2])\n",
    "print(a[1::2])\n",
    "print(a[::-1])"
   ]
  },
  {
   "cell_type": "code",
   "execution_count": 25,
   "id": "abaa7a19-7823-4361-83e4-50ccd227a911",
   "metadata": {},
   "outputs": [
    {
     "name": "stdout",
     "output_type": "stream",
     "text": [
      "[1 2 3]\n",
      "[ 1  2  3  4  5  6  7  8  9 10 11 12]\n",
      "[[ 1  2  3  4  5  6]\n",
      " [ 7  8  9 10 11 12]]\n",
      "[[ 1  2  3  4]\n",
      " [ 5  6  7  8]\n",
      " [ 9 10 11 12]]\n"
     ]
    }
   ],
   "source": [
    "a = np.array([1,2,3,4,5,6])\n",
    "\n",
    "b = a[:3]\n",
    "print(b)\n",
    "\n",
    "a = np.arange(1,13)\n",
    "print(a)\n",
    "\n",
    "print(a.reshape(2,6))\n",
    "print(a.reshape(3,4))"
   ]
  },
  {
   "cell_type": "code",
   "execution_count": 27,
   "id": "fc7b148b-a787-4e5e-930b-d986b6970ca4",
   "metadata": {},
   "outputs": [
    {
     "name": "stdout",
     "output_type": "stream",
     "text": [
      "[1 2 3 4 5 6]\n"
     ]
    }
   ],
   "source": [
    "x = np.array([1,2,3])\n",
    "y = np.array([4,5])\n",
    "z = np.array([6])\n",
    "\n",
    "print(np.concatenate([x,y,z]))"
   ]
  },
  {
   "cell_type": "code",
   "execution_count": 29,
   "id": "4583adbe-5353-4698-b604-ce33ffdf7d93",
   "metadata": {},
   "outputs": [
    {
     "name": "stdout",
     "output_type": "stream",
     "text": [
      "[[1 2 3]\n",
      " [4 5 6]]\n",
      "[[1 2 3 1 2 3]\n",
      " [4 5 6 4 5 6]]\n"
     ]
    }
   ],
   "source": [
    "x = np.array([1,2,3])\n",
    "y = np.array([4,5,6])\n",
    "\n",
    "r1 = np.vstack([x,y])\n",
    "print(r1)\n",
    "\n",
    "print(np.hstack([r1,r1]))\n"
   ]
  },
  {
   "cell_type": "code",
   "execution_count": 34,
   "id": "a2e9eed9-dea2-4808-88b9-3b66548c169a",
   "metadata": {},
   "outputs": [
    {
     "name": "stdout",
     "output_type": "stream",
     "text": [
      "[0 1 2 3 4 5 6 7 8 9]\n",
      "[ 1  3  5  7  9 11 13 15 17 19]\n",
      "[ 1  3  5  7  9 11 13 15 17 19]\n",
      "[ 0. 10. 20. 30. 40.]\n",
      "[ 0. 10. 20. 30. 40.]\n"
     ]
    }
   ],
   "source": [
    "x = np.arange(10)\n",
    "print(x)\n",
    "\n",
    "print(x*2+1)\n",
    "\n",
    "print(np.add(np.multiply(x,2),1))\n",
    "\n",
    "x = np.arange(5)\n",
    "\n",
    "y = np.empty(5)\n",
    "\n",
    "print(np.multiply(x, 10, out = y))\n",
    "\n",
    "print(y)"
   ]
  },
  {
   "cell_type": "code",
   "execution_count": 36,
   "id": "bbbe42c2-94f6-4380-956b-fb2e109e629a",
   "metadata": {},
   "outputs": [
    {
     "name": "stdout",
     "output_type": "stream",
     "text": [
      "[1 2 3 4]\n",
      "10\n",
      "[ 1  3  6 10]\n"
     ]
    }
   ],
   "source": [
    "x = np.arange(1,5)\n",
    "\n",
    "print(x)\n",
    "\n",
    "print(np.add.reduce(x))\n",
    "print(np.add.accumulate(x))"
   ]
  },
  {
   "cell_type": "code",
   "execution_count": 37,
   "id": "278bf010-d7e3-4a59-848b-6db3cb4a0f39",
   "metadata": {},
   "outputs": [
    {
     "name": "stdout",
     "output_type": "stream",
     "text": [
      "[[ 2  3  4  5  6  7  8  9 10]\n",
      " [ 3  4  5  6  7  8  9 10 11]\n",
      " [ 4  5  6  7  8  9 10 11 12]\n",
      " [ 5  6  7  8  9 10 11 12 13]\n",
      " [ 6  7  8  9 10 11 12 13 14]\n",
      " [ 7  8  9 10 11 12 13 14 15]\n",
      " [ 8  9 10 11 12 13 14 15 16]\n",
      " [ 9 10 11 12 13 14 15 16 17]\n",
      " [10 11 12 13 14 15 16 17 18]]\n",
      "[[ 1  2  3  4  5  6  7  8  9]\n",
      " [ 2  4  6  8 10 12 14 16 18]\n",
      " [ 3  6  9 12 15 18 21 24 27]\n",
      " [ 4  8 12 16 20 24 28 32 36]\n",
      " [ 5 10 15 20 25 30 35 40 45]\n",
      " [ 6 12 18 24 30 36 42 48 54]\n",
      " [ 7 14 21 28 35 42 49 56 63]\n",
      " [ 8 16 24 32 40 48 56 64 72]\n",
      " [ 9 18 27 36 45 54 63 72 81]]\n"
     ]
    }
   ],
   "source": [
    "x = np.arange(1,10)\n",
    "\n",
    "print(np.add.outer(x,x))\n",
    "print(np.multiply.outer(x,x))"
   ]
  },
  {
   "cell_type": "code",
   "execution_count": null,
   "id": "cf48a588-54a9-424c-bce2-56860b3e33de",
   "metadata": {},
   "outputs": [],
   "source": []
  }
 ],
 "metadata": {
  "kernelspec": {
   "display_name": "Python 3 (ipykernel)",
   "language": "python",
   "name": "python3"
  },
  "language_info": {
   "codemirror_mode": {
    "name": "ipython",
    "version": 3
   },
   "file_extension": ".py",
   "mimetype": "text/x-python",
   "name": "python",
   "nbconvert_exporter": "python",
   "pygments_lexer": "ipython3",
   "version": "3.11.7"
  }
 },
 "nbformat": 4,
 "nbformat_minor": 5
}
