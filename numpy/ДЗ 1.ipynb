{
 "cells": [
  {
   "cell_type": "code",
   "execution_count": 21,
   "id": "12adef56-31f7-4c6f-8169-45fe3fe3b029",
   "metadata": {},
   "outputs": [],
   "source": [
    "import numpy as np\n",
    "import array\n",
    "import sys"
   ]
  },
  {
   "cell_type": "code",
   "execution_count": 18,
   "id": "08ed7247-5292-453e-a7ad-04b024e6e5f5",
   "metadata": {},
   "outputs": [
    {
     "name": "stdout",
     "output_type": "stream",
     "text": [
      "83\n",
      "<class 'array.array'>\n",
      "83\n",
      "<class 'array.array'>\n",
      "86\n",
      "<class 'array.array'>\n",
      "86\n",
      "<class 'array.array'>\n",
      "92\n",
      "<class 'array.array'>\n",
      "92\n",
      "<class 'array.array'>\n",
      "92\n",
      "<class 'array.array'>\n",
      "92\n",
      "<class 'array.array'>\n",
      "104\n",
      "<class 'array.array'>\n",
      "104\n",
      "<class 'array.array'>\n",
      "92\n",
      "<class 'array.array'>\n",
      "104\n",
      "<class 'array.array'>\n"
     ]
    }
   ],
   "source": [
    "# 1 и 2 задание\n",
    "\n",
    "a1 = array.array('b', [1,2,3])\n",
    "print(sys.getsizeof(a1))\n",
    "print(type(a1))\n",
    "\n",
    "a1 = array.array('B', [1,0,1])\n",
    "print(sys.getsizeof(a1))\n",
    "print(type(a1))\n",
    "\n",
    "a1 = array.array('h', [1,2,3])\n",
    "print(sys.getsizeof(a1))\n",
    "print(type(a1))\n",
    "\n",
    "a1 = array.array('H', [1,2,3])\n",
    "print(sys.getsizeof(a1))\n",
    "print(type(a1))\n",
    "\n",
    "a1 = array.array('i', [1,2,3])\n",
    "print(sys.getsizeof(a1))\n",
    "print(type(a1))\n",
    "\n",
    "a1 = array.array('I', [1,2,3])\n",
    "print(sys.getsizeof(a1))\n",
    "print(type(a1))\n",
    "\n",
    "a1 = array.array('l', [1,2,3])\n",
    "print(sys.getsizeof(a1))\n",
    "print(type(a1))\n",
    "\n",
    "a1 = array.array('L', [1,2,3])\n",
    "print(sys.getsizeof(a1))\n",
    "print(type(a1))\n",
    "\n",
    "a1 = array.array('q', [1,2,3])\n",
    "print(sys.getsizeof(a1))\n",
    "print(type(a1))\n",
    "\n",
    "a1 = array.array('Q', [1,2,3])\n",
    "print(sys.getsizeof(a1))\n",
    "print(type(a1))\n",
    "\n",
    "a1 = array.array('f', [1.03,2.03,3.03])\n",
    "print(sys.getsizeof(a1))\n",
    "print(type(a1))\n",
    "\n",
    "a1 = array.array('d', [1.23,2.23,3.23])\n",
    "print(sys.getsizeof(a1))\n",
    "print(type(a1))"
   ]
  },
  {
   "cell_type": "code",
   "execution_count": 31,
   "id": "a4afa660-6b57-444e-85e8-ef52e9a74ec5",
   "metadata": {},
   "outputs": [
    {
     "name": "stdout",
     "output_type": "stream",
     "text": [
      "[0.  0.2 0.4 0.6 0.8]\n"
     ]
    }
   ],
   "source": [
    "# 3 задание\n",
    "x = np.arange(0,1,0.2)\n",
    "print(x)"
   ]
  },
  {
   "cell_type": "code",
   "execution_count": 28,
   "id": "4ce3a7fb-3174-4d50-9b99-51b7f8b0828a",
   "metadata": {},
   "outputs": [
    {
     "name": "stdout",
     "output_type": "stream",
     "text": [
      "[4.17022005e-01 7.20324493e-01 1.14374817e-04 3.02332573e-01\n",
      " 1.46755891e-01]\n"
     ]
    }
   ],
   "source": [
    "# 4 задание\n",
    "np.random.seed(1)\n",
    "\n",
    "x = np.random.uniform(0,1,5)\n",
    "print(x)"
   ]
  },
  {
   "cell_type": "code",
   "execution_count": 30,
   "id": "2e4f1b8e-493c-43b0-ab30-237dc2d181c0",
   "metadata": {},
   "outputs": [
    {
     "name": "stdout",
     "output_type": "stream",
     "text": [
      "[ 1.62434536 -0.61175641 -0.52817175 -1.07296862  0.86540763]\n"
     ]
    }
   ],
   "source": [
    "# 5 задание\n",
    "np.random.seed(1)\n",
    "\n",
    "x = np.random.standard_normal(5)\n",
    "print(x)"
   ]
  },
  {
   "cell_type": "code",
   "execution_count": 36,
   "id": "cea7aa8d-d658-4902-9f19-39552f601c70",
   "metadata": {},
   "outputs": [
    {
     "name": "stdout",
     "output_type": "stream",
     "text": [
      "[5 8 9 5 0]\n"
     ]
    }
   ],
   "source": [
    "# 6 задание\n",
    "np.random.seed(1)\n",
    "\n",
    "x = np.random.randint(0, 10, 5)\n",
    "print(x)"
   ]
  },
  {
   "cell_type": "code",
   "execution_count": 60,
   "id": "d82e9d68-3ef9-4b4e-abc8-08cafddc6af8",
   "metadata": {},
   "outputs": [
    {
     "name": "stdout",
     "output_type": "stream",
     "text": [
      "[[ 0  1  2  3]\n",
      " [ 4  5  6  7]\n",
      " [ 8  9 10 11]]\n",
      "[[0 1 2]\n",
      " [4 5 6]]\n",
      "[[1]\n",
      " [5]\n",
      " [9]]\n",
      "[[11 10  9  8]\n",
      " [ 7  6  5  4]\n",
      " [ 3  2  1  0]]\n",
      "[[1]\n",
      " [5]\n",
      " [9]]\n",
      "[[ 8  9 10 11]]\n"
     ]
    }
   ],
   "source": [
    "# 7 задание\n",
    "x = np.array([range(i*4, i*4+4) for i in range(3)])\n",
    "print(x)\n",
    "\n",
    "print(x[:2,:3])\n",
    "\n",
    "print(x[:3,1:2])\n",
    "\n",
    "print(x[::-1,::-1])\n",
    "\n",
    "print(x[:,1:2])\n",
    "\n",
    "print(x[2:3])"
   ]
  },
  {
   "cell_type": "code",
   "execution_count": 61,
   "id": "29fab6d3-8253-4639-ae5e-8f5398d3f9ad",
   "metadata": {},
   "outputs": [
    {
     "name": "stdout",
     "output_type": "stream",
     "text": [
      "[[ 0  1  2  3]\n",
      " [ 4  5  6  7]\n",
      " [ 8  9 10 11]]\n",
      "[[ 0  1  2]\n",
      " [ 4  5  6]\n",
      " [ 8  9 10]]\n"
     ]
    }
   ],
   "source": [
    "#8 задание\n",
    "x = np.array([\n",
    "    [0, 1, 2, 3],\n",
    "    [4, 5, 6, 7],\n",
    "    [8, 9, 10, 11]\n",
    "])\n",
    "\n",
    "copy = x[:3, :3].copy()\n",
    "\n",
    "print(x)\n",
    "print(copy)"
   ]
  },
  {
   "cell_type": "code",
   "execution_count": 68,
   "id": "7090ce2f-8b89-426c-8646-db2586325f3f",
   "metadata": {},
   "outputs": [
    {
     "name": "stdout",
     "output_type": "stream",
     "text": [
      "[[1 2 3]]\n",
      "[[1]\n",
      " [2]\n",
      " [3]]\n"
     ]
    }
   ],
   "source": [
    "#9 задание\n",
    "x = np.array([1,2,3])\n",
    "print(x[np.newaxis, :])\n",
    "\n",
    "print(x[:, np.newaxis])"
   ]
  },
  {
   "cell_type": "code",
   "execution_count": 70,
   "id": "04310093-ba34-48f6-9fc5-82659a2d31ad",
   "metadata": {},
   "outputs": [
    {
     "name": "stdout",
     "output_type": "stream",
     "text": [
      "[[[1 4]\n",
      "  [2 5]\n",
      "  [3 6]]]\n"
     ]
    }
   ],
   "source": [
    "#10 задание\n",
    "\n",
    "a = np.array([1,2,3])\n",
    "\n",
    "b = np.array([4,5,6])\n",
    "\n",
    "print(np.dstack((a,b)))"
   ]
  },
  {
   "cell_type": "code",
   "execution_count": 80,
   "id": "bb89ab20-5447-49fd-a088-b7ead646b8e3",
   "metadata": {},
   "outputs": [
    {
     "name": "stdout",
     "output_type": "stream",
     "text": [
      "[[ 0  1  2  3]\n",
      " [ 4  5  6  7]\n",
      " [ 8  9 10 11]\n",
      " [12 13 14 15]]\n",
      "[array([[0, 1, 2, 3],\n",
      "       [4, 5, 6, 7]]), array([[ 8,  9, 10, 11],\n",
      "       [12, 13, 14, 15]])]\n",
      "[array([[ 0,  1],\n",
      "       [ 4,  5],\n",
      "       [ 8,  9],\n",
      "       [12, 13]]), array([[ 2,  3],\n",
      "       [ 6,  7],\n",
      "       [10, 11],\n",
      "       [14, 15]])]\n",
      "[array([[0, 1, 2, 3],\n",
      "       [4, 5, 6, 7]]), array([[ 8,  9, 10, 11],\n",
      "       [12, 13, 14, 15]])]\n",
      "[array([[ 0,  1],\n",
      "       [ 4,  5],\n",
      "       [ 8,  9],\n",
      "       [12, 13]]), array([[ 2,  3],\n",
      "       [ 6,  7],\n",
      "       [10, 11],\n",
      "       [14, 15]])]\n",
      "[[[ 0  1  2  3]\n",
      "  [ 4  5  6  7]\n",
      "  [ 8  9 10 11]]\n",
      "\n",
      " [[12 13 14 15]\n",
      "  [16 17 18 19]\n",
      "  [20 21 22 23]]]\n",
      "[array([[[ 0,  1],\n",
      "        [ 4,  5],\n",
      "        [ 8,  9]],\n",
      "\n",
      "       [[12, 13],\n",
      "        [16, 17],\n",
      "        [20, 21]]]), array([[[ 2,  3],\n",
      "        [ 6,  7],\n",
      "        [10, 11]],\n",
      "\n",
      "       [[14, 15],\n",
      "        [18, 19],\n",
      "        [22, 23]]])]\n"
     ]
    }
   ],
   "source": [
    "#11 задание \n",
    "arr = np.arange(16).reshape(4, 4)\n",
    "print(arr)\n",
    "\n",
    "print(np.split(arr,2,axis = 0))\n",
    "print(np.split(arr,2,axis = 1))\n",
    "\n",
    "print(np.vsplit(arr,2))\n",
    "\n",
    "print(np.hsplit(arr,2))\n",
    "\n",
    "arr = np.arange(24).reshape(2,3,4)\n",
    "\n",
    "print(arr)\n",
    "print(np.dsplit(arr,2))"
   ]
  },
  {
   "cell_type": "code",
   "execution_count": 87,
   "id": "41a95689-3924-4c08-80c7-dd90f64b40f9",
   "metadata": {},
   "outputs": [
    {
     "name": "stdout",
     "output_type": "stream",
     "text": [
      "[ 0  1  2  3  4  5  6  7  8  9 10 11]\n",
      "[ 0  2  4  6  8 10 12 14 16 18 20 22]\n",
      "[ 0  2  4  6  8 10 12 14 16 18 20 22]\n",
      "[0.  0.5 1.  1.5 2.  2.5 3.  3.5 4.  4.5 5.  5.5]\n",
      "[-1  0  1  2  3  4  5  6  7  8  9 10]\n",
      "[0 1 0 1 0 1 0 1 0 1 0 1]\n",
      "[0 0 0 1 1 1 2 2 2 3 3 3]\n"
     ]
    }
   ],
   "source": [
    "#12 задание\n",
    "arr = np.arange(12)\n",
    "print(arr)\n",
    "\n",
    "print(arr*2)\n",
    "\n",
    "print(arr + arr)\n",
    "\n",
    "print(arr/2)\n",
    "\n",
    "print(arr-1)\n",
    "\n",
    "print(arr%2)\n",
    "\n",
    "print(arr//3)"
   ]
  },
  {
   "cell_type": "code",
   "execution_count": null,
   "id": "e1dd3389-5fee-48dd-a882-7122f600fa2d",
   "metadata": {},
   "outputs": [],
   "source": []
  }
 ],
 "metadata": {
  "kernelspec": {
   "display_name": "Python 3 (ipykernel)",
   "language": "python",
   "name": "python3"
  },
  "language_info": {
   "codemirror_mode": {
    "name": "ipython",
    "version": 3
   },
   "file_extension": ".py",
   "mimetype": "text/x-python",
   "name": "python",
   "nbconvert_exporter": "python",
   "pygments_lexer": "ipython3",
   "version": "3.11.7"
  }
 },
 "nbformat": 4,
 "nbformat_minor": 5
}
